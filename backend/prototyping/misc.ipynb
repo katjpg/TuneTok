{
 "cells": [
  {
   "cell_type": "code",
   "execution_count": 2,
   "metadata": {},
   "outputs": [],
   "source": [
    "import os\n",
    "import json\n",
    "from typing import List, Tuple, Optional\n",
    "from dotenv import load_dotenv\n",
    "from hume import HumeBatchClient\n",
    "from hume.models.config import ProsodyConfig\n",
    "from collections import defaultdict"
   ]
  },
  {
   "cell_type": "code",
   "execution_count": null,
   "metadata": {},
   "outputs": [],
   "source": [
    "# TODO: Hume AI; integrate into main later on \n",
    "def analyze_audio_emotions(filepath: str) -> Optional[List[Tuple[str, float]]]:\n",
    "    load_dotenv()\n",
    "\n",
    "    client_key = os.getenv('HUME_AI_CLIENT_KEY')\n",
    "    client_secret = os.getenv('HUME_AI_CLIENT_SECRET')\n",
    "\n",
    "    if not client_key or not client_secret:\n",
    "        raise ValueError(\"HUME_AI_CLIENT_KEY and HUME_AI_CLIENT_SECRET must be set in .env file\")\n",
    "\n",
    "    try:\n",
    "        # Initialize Hume client and submit job\n",
    "        client = HumeBatchClient(client_key)\n",
    "        config = ProsodyConfig()\n",
    "        job = client.submit_job(None, [config], files=[filepath])\n",
    "        \n",
    "        print(\"Analyzing audio...\")\n",
    "        job.await_complete()\n",
    "        job.download_predictions(\"predictions.json\")\n",
    "        print(\"Analysis complete. Predictions downloaded to predictions.json\")\n",
    "\n",
    "        # Process the predictions\n",
    "        with open('predictions.json', 'r') as file:\n",
    "            data = json.load(file)\n",
    "\n",
    "        # Aggregate emotion scores; there has to be a simpler way to do this\n",
    "        emotion_scores = defaultdict(float)\n",
    "        for prediction in data[0]['results']['predictions']:\n",
    "            for group in prediction['models']['prosody']['grouped_predictions']:\n",
    "                for pred in group['predictions']:\n",
    "                    for emotion in pred['emotions']:\n",
    "                        emotion_scores[emotion['name']] += emotion['score']\n",
    "\n",
    "        # Find the top 2 emotions\n",
    "        top_2_emotions = sorted(emotion_scores.items(), key=lambda x: x[1], reverse=True)[:2]\n",
    "\n",
    "        return top_2_emotions\n",
    "\n",
    "    except Exception as e:\n",
    "        print(f\"An error occurred: {str(e)}\")\n",
    "        return None"
   ]
  },
  {
   "cell_type": "code",
   "execution_count": null,
   "metadata": {},
   "outputs": [],
   "source": [
    "# Testing\n",
    "audio_file = \"./media/test-vids/test.mp4\"  \n",
    "result = analyze_audio_emotions(audio_file)\n",
    "\n",
    "if result:\n",
    "    print(\"Top 2 emotions overall:\")\n",
    "    for emotion, score in result:\n",
    "        print(f\"{emotion}: {score:.2f}\")\n",
    "else:\n",
    "    print(\"Failed to analyze audio emotions.\")"
   ]
  }
 ],
 "metadata": {
  "kernelspec": {
   "display_name": "Python 3",
   "language": "python",
   "name": "python3"
  },
  "language_info": {
   "codemirror_mode": {
    "name": "ipython",
    "version": 3
   },
   "file_extension": ".py",
   "mimetype": "text/x-python",
   "name": "python",
   "nbconvert_exporter": "python",
   "pygments_lexer": "ipython3",
   "version": "3.10.14"
  }
 },
 "nbformat": 4,
 "nbformat_minor": 2
}
